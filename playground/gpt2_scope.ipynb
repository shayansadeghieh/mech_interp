{
 "cells": [
  {
   "cell_type": "code",
   "execution_count": 40,
   "metadata": {},
   "outputs": [],
   "source": [
    "from sae_lens import SAE \n",
    "from transformers import AutoModelForCausalLM, AutoTokenizer\n",
    "\n",
    "import torch \n",
    "import numpy as np "
   ]
  },
  {
   "cell_type": "markdown",
   "metadata": {},
   "source": [
    "# Determine device "
   ]
  },
  {
   "cell_type": "code",
   "execution_count": 17,
   "metadata": {},
   "outputs": [
    {
     "name": "stdout",
     "output_type": "stream",
     "text": [
      "Using MPS\n"
     ]
    }
   ],
   "source": [
    "if torch.backends.mps.is_available():\n",
    "    device = torch.device(\"mps\")\n",
    "    print(\"Using MPS\")\n",
    "else:\n",
    "    device = torch.device(\"cpu\")\n",
    "    print(\"MPS device not found. Using CPU instead.\")"
   ]
  },
  {
   "cell_type": "markdown",
   "metadata": {},
   "source": [
    "# Load model onto GPU and tokenizer onto CPU"
   ]
  },
  {
   "cell_type": "code",
   "execution_count": 98,
   "metadata": {},
   "outputs": [],
   "source": [
    "model = AutoModelForCausalLM.from_pretrained(\"gpt2\").to(device)\n",
    "gpt2_tokenizer = AutoTokenizer.from_pretrained(\"gpt2\")\n",
    "gpt2_tokenizer.pad_token = gpt2_tokenizer.eos_token\n"
   ]
  },
  {
   "cell_type": "code",
   "execution_count": 133,
   "metadata": {},
   "outputs": [],
   "source": [
    "def tokenize(input_text: str) -> torch.Tensor:    \n",
    "    return gpt2_tokenizer(input_text, return_tensors=\"pt\", padding=True).input_ids\n",
    "\n",
    "def tokenize_and_embed(input_text: str) -> torch.Tensor:\n",
    "    # Our model lives on the GPU, so we always put our tokenized tensor onto the gpu \n",
    "    return model.transformer.wte(tokenize(input_text).to(device))\n",
    "\n",
    "def perform_inference(input_text: str) -> str:        \n",
    "    input_ids = tokenize(input_text).to(device) # Our tokenizer output should live on the GPU \n",
    "    # input_ids = tokenizer(input_text, return_tensors=\"pt\").input_ids.to(device)\n",
    "    gen_tokens = model.generate(\n",
    "        input_ids,\n",
    "        do_sample=False, \n",
    "        temperature=0,\n",
    "        max_length=100,\n",
    "    )\n",
    "    gen_text = gpt2_tokenizer.batch_decode(gen_tokens)[0]\n",
    "    return gen_text"
   ]
  },
  {
   "cell_type": "code",
   "execution_count": 134,
   "metadata": {},
   "outputs": [
    {
     "name": "stderr",
     "output_type": "stream",
     "text": [
      "/Users/shayansadeghieh/Desktop/projects/mech_interp/.venv/lib/python3.12/site-packages/transformers/generation/configuration_utils.py:628: UserWarning: `do_sample` is set to `False`. However, `temperature` is set to `0` -- this flag is only used in sample-based generation modes. You should set `do_sample=True` or unset `temperature`.\n",
      "  warnings.warn(\n",
      "The attention mask and the pad token id were not set. As a consequence, you may observe unexpected behavior. Please pass your input's `attention_mask` to obtain reliable results.\n",
      "Setting `pad_token_id` to `eos_token_id`:50256 for open-end generation.\n"
     ]
    },
    {
     "data": {
      "text/plain": [
       "'GPT2 is a model developed by OpenAI. It is a model that is based on the concept of a \"supercomputer\" that can perform computations on a large number of data sets. It is a model that is based on the concept of a \"supercomputer\" that can perform computations on a large number of data sets. It is a model that is based on the concept of a \"supercomputer\" that can perform computations on a large number of data sets. It is'"
      ]
     },
     "execution_count": 134,
     "metadata": {},
     "output_type": "execute_result"
    }
   ],
   "source": [
    "perform_inference(\"GPT2 is a model developed by OpenAI.\")"
   ]
  },
  {
   "cell_type": "markdown",
   "metadata": {},
   "source": [
    "# Load a sparse autoencoder "
   ]
  },
  {
   "cell_type": "code",
   "execution_count": 177,
   "metadata": {},
   "outputs": [],
   "source": [
    "sae, cfg_dict, sparsity = SAE.from_pretrained(\n",
    "    release=\"gpt2-small-res-jb\",  # see other options in sae_lens/pretrained_saes.yaml\n",
    "    sae_id=\"blocks.11.hook_resid_post\",  # won't always be a hook point\n",
    "    device='cpu',\n",
    ")"
   ]
  },
  {
   "cell_type": "code",
   "execution_count": 178,
   "metadata": {},
   "outputs": [
    {
     "name": "stdout",
     "output_type": "stream",
     "text": [
      "SAE has layer b_enc with torch.Size([24576]) parameters\n",
      "SAE has layer W_dec with torch.Size([24576, 768]) parameters\n",
      "SAE has layer W_enc with torch.Size([768, 24576]) parameters\n",
      "SAE has layer b_dec with torch.Size([768]) parameters\n"
     ]
    }
   ],
   "source": [
    "params_dict = {}\n",
    "for name, param in sae.named_parameters():\n",
    "    params_dict[name] = param.data\n",
    "    print(f\"SAE has layer {name} with {param.size()} parameters\")    "
   ]
  },
  {
   "cell_type": "code",
   "execution_count": 180,
   "metadata": {},
   "outputs": [
    {
     "data": {
      "text/plain": [
       "GPT2Block(\n",
       "  (ln_1): LayerNorm((768,), eps=1e-05, elementwise_affine=True)\n",
       "  (attn): GPT2SdpaAttention(\n",
       "    (c_attn): Conv1D(nf=2304, nx=768)\n",
       "    (c_proj): Conv1D(nf=768, nx=768)\n",
       "    (attn_dropout): Dropout(p=0.1, inplace=False)\n",
       "    (resid_dropout): Dropout(p=0.1, inplace=False)\n",
       "  )\n",
       "  (ln_2): LayerNorm((768,), eps=1e-05, elementwise_affine=True)\n",
       "  (mlp): GPT2MLP(\n",
       "    (c_fc): Conv1D(nf=3072, nx=768)\n",
       "    (c_proj): Conv1D(nf=768, nx=3072)\n",
       "    (act): NewGELUActivation()\n",
       "    (dropout): Dropout(p=0.1, inplace=False)\n",
       "  )\n",
       ")"
      ]
     },
     "execution_count": 180,
     "metadata": {},
     "output_type": "execute_result"
    }
   ],
   "source": [
    "model.transformer.h[11]"
   ]
  },
  {
   "cell_type": "code",
   "execution_count": 181,
   "metadata": {},
   "outputs": [],
   "source": [
    "def gather_residual_activations(model, target_layer, inputs):\n",
    "  target_act = None\n",
    "  def gather_target_act_hook(mod, inputs, outputs):\n",
    "    nonlocal target_act # make sure we can modify the target_act from the outer scope\n",
    "    target_act = outputs[0]\n",
    "    return outputs\n",
    "  \n",
    "  handle = model.transformer.h[target_layer].register_forward_hook(gather_target_act_hook)  \n",
    "  model(inputs)\n",
    "  handle.remove()\n",
    "  return target_act"
   ]
  },
  {
   "cell_type": "code",
   "execution_count": 226,
   "metadata": {},
   "outputs": [],
   "source": [
    "LAYER = 11\n",
    "input_text = \"The CN Tower is Toronto's greatest landmark.\"\n",
    "tokenized_text = tokenize(input_text)\n",
    "# embedding = tokenize_and_embed(input_text).to('cpu')\n",
    "target_act = gather_residual_activations(model, LAYER, tokenized_text.to(device))\n"
   ]
  },
  {
   "cell_type": "code",
   "execution_count": 227,
   "metadata": {},
   "outputs": [],
   "source": [
    "sae_acts = sae.encode(target_act.to('cpu'))\n",
    "recon = sae.decode(sae_acts) # Reconstruction"
   ]
  },
  {
   "cell_type": "code",
   "execution_count": 228,
   "metadata": {},
   "outputs": [
    {
     "data": {
      "text/plain": [
       "tensor(0.9569, grad_fn=<RsubBackward1>)"
      ]
     },
     "execution_count": 228,
     "metadata": {},
     "output_type": "execute_result"
    }
   ],
   "source": [
    "1 - torch.mean((recon[:, 1:] - target_act[:, 1:].to(torch.float32).to('cpu')) **2) / (target_act[:, 1:].to(torch.float32).to('cpu').var())"
   ]
  },
  {
   "cell_type": "code",
   "execution_count": 229,
   "metadata": {},
   "outputs": [
    {
     "data": {
      "text/plain": [
       "tensor([[ 27,  20,  68,  41,  67,  46,  62, 195,  38]])"
      ]
     },
     "execution_count": 229,
     "metadata": {},
     "output_type": "execute_result"
    }
   ],
   "source": [
    "(sae_acts > 1).sum(-1)"
   ]
  },
  {
   "cell_type": "code",
   "execution_count": 230,
   "metadata": {},
   "outputs": [
    {
     "name": "stdout",
     "output_type": "stream",
     "text": [
      "tensor([[19418, 12170, 16698, 21441, 10659, 13412, 13412, 13412,  4712]])\n"
     ]
    }
   ],
   "source": [
    "values, inds = sae_acts.max(-1)\n",
    "print(inds)\n",
    "# tensor([[19418, 12725, 24128,   563, 24427,  9077, 13736, 16919, 22469,  4104]])"
   ]
  },
  {
   "cell_type": "code",
   "execution_count": 344,
   "metadata": {},
   "outputs": [
    {
     "data": {
      "text/html": [
       "\n",
       "        <iframe\n",
       "            width=\"1200\"\n",
       "            height=\"600\"\n",
       "            src=\"https://neuronpedia.org/gpt2-small/11-res-jb/21441?embed=true&embedexplanation=true&embedplots=true&embedtest=true&height=300\"\n",
       "            frameborder=\"0\"\n",
       "            allowfullscreen\n",
       "            \n",
       "        ></iframe>\n",
       "        "
      ],
      "text/plain": [
       "<IPython.lib.display.IFrame at 0x29f6a4dd0>"
      ]
     },
     "execution_count": 344,
     "metadata": {},
     "output_type": "execute_result"
    }
   ],
   "source": [
    "from IPython.display import IFrame\n",
    "html_template = \"https://neuronpedia.org/{}/{}/{}?embed=true&embedexplanation=true&embedplots=true&embedtest=true&height=300\"\n",
    "\n",
    "model_name = \"gpt2-small\"\n",
    "sae_id = \"11-res-jb\" \n",
    "\n",
    "# 14561\n",
    "\n",
    "def get_dashboard_html(sae_release = model_name, sae_id=sae_id, feature_idx=0):\n",
    "    return html_template.format(sae_release, sae_id, feature_idx)\n",
    "\n",
    "html = get_dashboard_html(feature_idx=21441)\n",
    "IFrame(html, width=1200, height=600)"
   ]
  },
  {
   "cell_type": "code",
   "execution_count": 235,
   "metadata": {},
   "outputs": [],
   "source": [
    "# 21441 corresponds to phrases related to excellence in sports/arts"
   ]
  },
  {
   "cell_type": "code",
   "execution_count": 364,
   "metadata": {},
   "outputs": [],
   "source": [
    "steering_vector = sae.W_dec[21441]\n",
    "STEERING_COEFF = 10000\n",
    "STEERING = True"
   ]
  },
  {
   "cell_type": "code",
   "execution_count": 374,
   "metadata": {},
   "outputs": [],
   "source": [
    "def steering_hook(resid_pre, steering_vector, steering_on=STEERING):\n",
    "    \"\"\"\n",
    "    Apply steering vector to residual stream\n",
    "    \"\"\"\n",
    "    # If output is a tuple, take the first element\n",
    "    if isinstance(resid_pre, tuple):\n",
    "        resid_pre = resid_pre[0]\n",
    "        \n",
    "    if resid_pre.shape[1] == 1:  # Skip if only one token\n",
    "        return\n",
    "    \n",
    "    position = resid_pre.shape[1]\n",
    "    if steering_on:\n",
    "        # Apply steering vector to all positions except the last one\n",
    "        resid_pre[:, :position-1, :] += STEERING_COEFF * steering_vector.to(device)\n",
    "\n",
    "def hooked_generate(prompt, steering_vector, seed=None, **kwargs):\n",
    "    \"\"\"\n",
    "    Generate text with steering vector intervention\n",
    "    \"\"\"\n",
    "    if seed is not None:\n",
    "        torch.manual_seed(seed)\n",
    "        \n",
    "    def hook_fn(module, inputs, output):\n",
    "        steering_hook(output, steering_vector)\n",
    "        return output\n",
    "    \n",
    "    # Register the hook\n",
    "    hook = model.transformer.h[LAYER].register_forward_hook(hook_fn)\n",
    "    \n",
    "    try:\n",
    "        tokenized = tokenize(prompt).to(device)\n",
    "        \n",
    "        result = model.generate(\n",
    "            tokenized,\n",
    "            max_new_tokens=100,\n",
    "            temperature=1.0,                    \n",
    "            do_sample=True,\n",
    "            pad_token_id=gpt2_tokenizer.eos_token_id,\n",
    "            **kwargs\n",
    "        )\n",
    "        \n",
    "        # Decode the generated text\n",
    "        generated_text = gpt2_tokenizer.decode(result[0], skip_special_tokens=True)\n",
    "        \n",
    "    finally:\n",
    "        # Always remove the hook to avoid memory leaks\n",
    "        hook.remove()\n",
    "        \n",
    "    return generated_text"
   ]
  },
  {
   "cell_type": "code",
   "execution_count": 380,
   "metadata": {},
   "outputs": [
    {
     "name": "stdout",
     "output_type": "stream",
     "text": [
      "Generated text: Tell me about Stephen Hawking. I have, a few times a week, and we make a good marriage,\" she said. \"I love him. It's hard to believe this is his final year, and we've got a couple of weeks to go before it's over. But the most compelling thing is to see how much of this I don't need anymore.\"\n"
     ]
    }
   ],
   "source": [
    "example_prompt = \"Tell me about Stephen Hawking\"\n",
    "result = hooked_generate(example_prompt, steering_vector)\n",
    "print(f\"Generated text: {result}\")"
   ]
  },
  {
   "cell_type": "code",
   "execution_count": 326,
   "metadata": {},
   "outputs": [
    {
     "name": "stderr",
     "output_type": "stream",
     "text": [
      "The attention mask and the pad token id were not set. As a consequence, you may observe unexpected behavior. Please pass your input's `attention_mask` to obtain reliable results.\n",
      "Setting `pad_token_id` to `eos_token_id`:50256 for open-end generation.\n"
     ]
    },
    {
     "data": {
      "text/plain": [
       "'Einstein was a great man, but he was also a great man who was a great man. He was a great man who was a great man. He was a great man who was a great man. He was a great man who was a great man. He was a great man who was a great man. He was a great man who was a great man. He was a great man who was a great man. He was a great man who was a great man. He was a'"
      ]
     },
     "execution_count": 326,
     "metadata": {},
     "output_type": "execute_result"
    }
   ],
   "source": [
    "perform_inference(example_prompt)"
   ]
  },
  {
   "cell_type": "code",
   "execution_count": null,
   "metadata": {},
   "outputs": [],
   "source": []
  }
 ],
 "metadata": {
  "kernelspec": {
   "display_name": ".venv",
   "language": "python",
   "name": "python3"
  },
  "language_info": {
   "codemirror_mode": {
    "name": "ipython",
    "version": 3
   },
   "file_extension": ".py",
   "mimetype": "text/x-python",
   "name": "python",
   "nbconvert_exporter": "python",
   "pygments_lexer": "ipython3",
   "version": "3.12.4"
  }
 },
 "nbformat": 4,
 "nbformat_minor": 2
}
