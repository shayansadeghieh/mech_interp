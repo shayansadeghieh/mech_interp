{
 "cells": [
  {
   "cell_type": "code",
   "execution_count": 31,
   "metadata": {},
   "outputs": [
    {
     "name": "stderr",
     "output_type": "stream",
     "text": [
      "/var/folders/77/19fl9pz51mg5qnjlb7f03rbw0000gn/T/ipykernel_65062/3898082890.py:13: FutureWarning: You are using `torch.load` with `weights_only=False` (the current default value), which uses the default pickle module implicitly. It is possible to construct malicious pickle data which will execute arbitrary code during unpickling (See https://github.com/pytorch/pytorch/blob/main/SECURITY.md#untrusted-models for more details). In a future release, the default value for `weights_only` will be flipped to `True`. This limits the functions that could be executed during unpickling. Arbitrary objects will no longer be allowed to be loaded via this mode unless they are explicitly allowlisted by the user via `torch.serialization.add_safe_globals`. We recommend you start setting `weights_only=True` for any use case where you don't have full control of the loaded file. Please open an issue on GitHub for any issues related to this experimental feature.\n",
      "  model.load_state_dict(torch.load(checkpoint_path))\n"
     ]
    }
   ],
   "source": [
    "import os\n",
    "import torch\n",
    "\n",
    "from pathlib import Path \n",
    "from transformers import AutoTokenizer\n",
    "from transformer.config import Config\n",
    "from main import DemoTransformer\n",
    "\n",
    "cfg = Config()    \n",
    "model = DemoTransformer(cfg=cfg)\n",
    "model_dir = Path('trained_models')\n",
    "checkpoint_path = max(model_dir.glob('*.pth'), key = os.path.getctime)\n",
    "model.load_state_dict(torch.load(checkpoint_path))\n",
    "\n",
    "model.eval()\n",
    "tokenizer = AutoTokenizer.from_pretrained('gpt2')\n"
   ]
  },
  {
   "cell_type": "code",
   "execution_count": 32,
   "metadata": {},
   "outputs": [],
   "source": [
    "def run_inference(text: str):\n",
    "    tokens = tokenizer(text, return_tensors='pt')\n",
    "    with torch.no_grad():\n",
    "        output = model(tokens['input_ids'])\n",
    "\n",
    "    predicted_token_ids = torch.argmax(output, dim=-1)\n",
    "    predicted_text = tokenizer.decode(predicted_token_ids[0][-1])\n",
    "    print(f\"Input: {text}\")\n",
    "    print(f\"Model output: {predicted_text}\")"
   ]
  },
  {
   "cell_type": "code",
   "execution_count": 40,
   "metadata": {},
   "outputs": [
    {
     "name": "stdout",
     "output_type": "stream",
     "text": [
      "Input: the cat in the\n",
      "Model output:  hat\n"
     ]
    }
   ],
   "source": [
    "text = \"the cat in the\"\n",
    "run_inference(text)"
   ]
  },
  {
   "cell_type": "code",
   "execution_count": null,
   "metadata": {},
   "outputs": [],
   "source": []
  }
 ],
 "metadata": {
  "kernelspec": {
   "display_name": ".venv",
   "language": "python",
   "name": "python3"
  },
  "language_info": {
   "codemirror_mode": {
    "name": "ipython",
    "version": 3
   },
   "file_extension": ".py",
   "mimetype": "text/x-python",
   "name": "python",
   "nbconvert_exporter": "python",
   "pygments_lexer": "ipython3",
   "version": "3.12.4"
  }
 },
 "nbformat": 4,
 "nbformat_minor": 2
}
